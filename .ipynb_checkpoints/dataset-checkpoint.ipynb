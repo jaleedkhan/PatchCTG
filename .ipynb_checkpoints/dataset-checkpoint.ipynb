{
 "cells": [
  {
   "cell_type": "code",
   "execution_count": 6,
   "id": "211727ef-9029-4273-9b85-0e0620de6ef3",
   "metadata": {},
   "outputs": [],
   "source": [
    "import pandas as pd\n",
    "import matplotlib.pyplot as plt\n",
    "import seaborn as sns\n",
    "import numpy as np\n",
    "from sklearn.model_selection import train_test_split\n",
    "from sklearn.metrics import roc_auc_score, roc_curve, accuracy_score, precision_score, recall_score, confusion_matrix, f1_score\n",
    "from IPython.display import clear_output"
   ]
  },
  {
   "cell_type": "code",
   "execution_count": 8,
   "id": "48fa124e-e702-4357-96d1-28da2c05c4cc",
   "metadata": {},
   "outputs": [
    {
     "name": "stdout",
     "output_type": "stream",
     "text": [
      "(20589, 960, 2)\n",
      "(20589,)\n",
      "(20589, 7)\n"
     ]
    }
   ],
   "source": [
    "# Load the data\n",
    "X = np.load('../gabriel_data/X.npy')\n",
    "y = np.load('../gabriel_data/y.npy')\n",
    "dataset = pd.read_csv('../gabriel_data/clinical_data.csv')\n",
    "\n",
    "print(X.shape)\n",
    "print(y.shape)\n",
    "print(dataset.shape)"
   ]
  },
  {
   "cell_type": "code",
   "execution_count": 11,
   "id": "0a30dece-6db6-454c-a9be-2f632b5126a3",
   "metadata": {},
   "outputs": [],
   "source": [
    "# Merge X, y, and dataset into a single DataFrame\n",
    "X_list = [x for x in X]\n",
    "y_list = y.tolist()\n",
    "dataset['input_signals'] = X_list\n",
    "dataset['label'] = y_list"
   ]
  },
  {
   "cell_type": "code",
   "execution_count": 12,
   "id": "e20931cd-75e3-4dc2-a374-3aa05b116ed2",
   "metadata": {},
   "outputs": [
    {
     "name": "stdout",
     "output_type": "stream",
     "text": [
      "-------------------- Label 0 --------------------\n",
      "Count: 10890\n",
      "OMAGE: 18.00 - 49.00 (Mean: 30.61)\n",
      "OPAR1: 7 unique values (1.0, 0.0, 4.0, 2.0, 3.0, 6.0, 5.0)\n",
      "OPAR2: 10 unique values (0.0, 1.0, 2.0, 5.0, 3.0, 7.0, 4.0, 6.0, 14.0, 8.0)\n",
      "RecGest: 27.00 - 41.00 (Mean: 34.85)\n",
      "Diff: 1.00 - 2618.00 (Mean: 682.64)\n",
      "BMI_M: 15.55 - 40.00 (Mean: 25.71)\n",
      "OSEX: 2 unique values (1.0, 0.0)\n",
      "\n",
      "\n",
      "-------------------- Label 1 --------------------\n",
      "Count: 9699\n",
      "OMAGE: 15.00 - 49.00 (Mean: 30.70)\n",
      "OPAR1: 7 unique values (4.0, 1.0, 2.0, 0.0, 3.0, 5.0, 6.0)\n",
      "OPAR2: 0.00 - 9.00 (Mean: 0.48)\n",
      "RecGest: 27.00 - 41.00 (Mean: 34.76)\n",
      "Diff: 0.00 - 168.00 (Mean: 62.35)\n",
      "BMI_M: 15.42 - 39.82 (Mean: 26.03)\n",
      "OSEX: 2 unique values (1.0, 0.0)\n",
      "\n",
      "\n"
     ]
    }
   ],
   "source": [
    "# Define the columns of interest\n",
    "columns_of_interest = ['OMAGE', 'OPAR1', 'OPAR2', 'RecGest', 'Diff', 'BMI_M', 'OSEX']\n",
    "\n",
    "# Function to print stats for a given dataset\n",
    "def print_stats(df, label):\n",
    "    print(f\"-------------------- Label {label} --------------------\")\n",
    "    df = df[df['label'] == label]\n",
    "    count = len(df)\n",
    "    print(f\"Count: {count}\")\n",
    "    \n",
    "    for col in columns_of_interest:\n",
    "        if df[col].dtype == 'object' or len(df[col].unique()) <= 10:\n",
    "            unique_values = df[col].unique()\n",
    "            print(f\"{col}: {len(unique_values)} unique values ({', '.join(map(str, unique_values))})\")\n",
    "        else:\n",
    "            min_val = df[col].min()\n",
    "            max_val = df[col].max()\n",
    "            mean_val = df[col].mean()\n",
    "            print(f\"{col}: {min_val:.2f} - {max_val:.2f} (Mean: {mean_val:.2f})\")\n",
    "    \n",
    "    print(\"\\n\")\n",
    "\n",
    "print_stats(dataset, 0)\n",
    "print_stats(dataset, 1) "
   ]
  },
  {
   "cell_type": "code",
   "execution_count": 13,
   "id": "89237bd5-b418-4e17-abb4-137c9f512d0c",
   "metadata": {},
   "outputs": [
    {
     "data": {
      "text/plain": [
       "(array([0, 1]), array([10890,  9699]))"
      ]
     },
     "execution_count": 13,
     "metadata": {},
     "output_type": "execute_result"
    }
   ],
   "source": [
    "np.unique(y, return_counts=True)"
   ]
  },
  {
   "cell_type": "code",
   "execution_count": 14,
   "id": "6b317d86-2aae-47fa-846d-32375730bab1",
   "metadata": {},
   "outputs": [],
   "source": [
    "# Split the data into training and testing sets\n",
    "X_train, X_test, y_train, y_test = train_test_split(X, y, test_size=0.2, random_state=42)\n",
    "\n",
    "# Create TensorFlow datasets\n",
    "train_ds = tf.data.Dataset.from_tensor_slices((X_train, y_train)).batch(16)\n",
    "test_ds = tf.data.Dataset.from_tensor_slices((X_test, y_test)).batch(16)"
   ]
  },
  {
   "cell_type": "code",
   "execution_count": null,
   "id": "d454249a-dab8-406c-a4ea-d0389798b419",
   "metadata": {},
   "outputs": [],
   "source": []
  }
 ],
 "metadata": {
  "kernelspec": {
   "display_name": "Python 3 (ipykernel)",
   "language": "python",
   "name": "python3"
  },
  "language_info": {
   "codemirror_mode": {
    "name": "ipython",
    "version": 3
   },
   "file_extension": ".py",
   "mimetype": "text/x-python",
   "name": "python",
   "nbconvert_exporter": "python",
   "pygments_lexer": "ipython3",
   "version": "3.8.19"
  }
 },
 "nbformat": 4,
 "nbformat_minor": 5
}
